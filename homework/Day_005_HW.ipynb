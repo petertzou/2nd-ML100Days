{
 "cells": [
  {
   "cell_type": "markdown",
   "metadata": {},
   "source": [
    "今日作業：\n",
    "\n",
    "觀察有興趣的欄位的資料分佈，並嘗試找出有趣的訊息 \n",
    "舉例來說： \n",
    "計算任意欄位的平均數及標準差\n",
    "畫出任意欄位的直方圖\n"
   ]
  },
  {
   "cell_type": "code",
   "execution_count": 1,
   "metadata": {},
   "outputs": [],
   "source": [
    "# Import 需要的套件\n",
    "import os\n",
    "import numpy as np\n",
    "import pandas as pd\n",
    "\n",
    "# 設定 data_path\n",
    "dir_data = './data/'"
   ]
  },
  {
   "cell_type": "code",
   "execution_count": 2,
   "metadata": {},
   "outputs": [],
   "source": [
    "f_app_train = os.path.join(dir_data, 'application_train.csv')\n",
    "app_train = pd.read_csv(f_app_train)"
   ]
  },
  {
   "cell_type": "code",
   "execution_count": 3,
   "metadata": {},
   "outputs": [],
   "source": [
    "import matplotlib.pyplot as plt\n",
    "%matplotlib inline"
   ]
  },
  {
   "cell_type": "markdown",
   "metadata": {},
   "source": [
    "練習時間\n",
    "觀察有興趣的欄位的資料分佈，並嘗試找出有趣的訊息\n",
    "Eg\n",
    "計算任意欄位的平均數及標準差\n",
    "畫出任意欄位的直方圖\n",
    "Hints:\n",
    "Descriptive Statistics For pandas Dataframe\n",
    "pandas 中的繪圖函數"
   ]
  },
  {
   "cell_type": "code",
   "execution_count": 4,
   "metadata": {},
   "outputs": [
    {
     "data": {
      "text/html": [
       "<div>\n",
       "<style scoped>\n",
       "    .dataframe tbody tr th:only-of-type {\n",
       "        vertical-align: middle;\n",
       "    }\n",
       "\n",
       "    .dataframe tbody tr th {\n",
       "        vertical-align: top;\n",
       "    }\n",
       "\n",
       "    .dataframe thead th {\n",
       "        text-align: right;\n",
       "    }\n",
       "</style>\n",
       "<table border=\"1\" class=\"dataframe\">\n",
       "  <thead>\n",
       "    <tr style=\"text-align: right;\">\n",
       "      <th></th>\n",
       "      <th>SK_ID_CURR</th>\n",
       "      <th>TARGET</th>\n",
       "      <th>NAME_CONTRACT_TYPE</th>\n",
       "      <th>CODE_GENDER</th>\n",
       "      <th>FLAG_OWN_CAR</th>\n",
       "      <th>FLAG_OWN_REALTY</th>\n",
       "      <th>CNT_CHILDREN</th>\n",
       "      <th>AMT_INCOME_TOTAL</th>\n",
       "      <th>AMT_CREDIT</th>\n",
       "      <th>AMT_ANNUITY</th>\n",
       "      <th>...</th>\n",
       "      <th>FLAG_DOCUMENT_18</th>\n",
       "      <th>FLAG_DOCUMENT_19</th>\n",
       "      <th>FLAG_DOCUMENT_20</th>\n",
       "      <th>FLAG_DOCUMENT_21</th>\n",
       "      <th>AMT_REQ_CREDIT_BUREAU_HOUR</th>\n",
       "      <th>AMT_REQ_CREDIT_BUREAU_DAY</th>\n",
       "      <th>AMT_REQ_CREDIT_BUREAU_WEEK</th>\n",
       "      <th>AMT_REQ_CREDIT_BUREAU_MON</th>\n",
       "      <th>AMT_REQ_CREDIT_BUREAU_QRT</th>\n",
       "      <th>AMT_REQ_CREDIT_BUREAU_YEAR</th>\n",
       "    </tr>\n",
       "  </thead>\n",
       "  <tbody>\n",
       "    <tr>\n",
       "      <th>0</th>\n",
       "      <td>100002</td>\n",
       "      <td>1</td>\n",
       "      <td>Cash loans</td>\n",
       "      <td>M</td>\n",
       "      <td>N</td>\n",
       "      <td>Y</td>\n",
       "      <td>0</td>\n",
       "      <td>202500.0</td>\n",
       "      <td>406597.5</td>\n",
       "      <td>24700.5</td>\n",
       "      <td>...</td>\n",
       "      <td>0</td>\n",
       "      <td>0</td>\n",
       "      <td>0</td>\n",
       "      <td>0</td>\n",
       "      <td>0.0</td>\n",
       "      <td>0.0</td>\n",
       "      <td>0.0</td>\n",
       "      <td>0.0</td>\n",
       "      <td>0.0</td>\n",
       "      <td>1.0</td>\n",
       "    </tr>\n",
       "    <tr>\n",
       "      <th>1</th>\n",
       "      <td>100003</td>\n",
       "      <td>0</td>\n",
       "      <td>Cash loans</td>\n",
       "      <td>F</td>\n",
       "      <td>N</td>\n",
       "      <td>N</td>\n",
       "      <td>0</td>\n",
       "      <td>270000.0</td>\n",
       "      <td>1293502.5</td>\n",
       "      <td>35698.5</td>\n",
       "      <td>...</td>\n",
       "      <td>0</td>\n",
       "      <td>0</td>\n",
       "      <td>0</td>\n",
       "      <td>0</td>\n",
       "      <td>0.0</td>\n",
       "      <td>0.0</td>\n",
       "      <td>0.0</td>\n",
       "      <td>0.0</td>\n",
       "      <td>0.0</td>\n",
       "      <td>0.0</td>\n",
       "    </tr>\n",
       "    <tr>\n",
       "      <th>2</th>\n",
       "      <td>100004</td>\n",
       "      <td>0</td>\n",
       "      <td>Revolving loans</td>\n",
       "      <td>M</td>\n",
       "      <td>Y</td>\n",
       "      <td>Y</td>\n",
       "      <td>0</td>\n",
       "      <td>67500.0</td>\n",
       "      <td>135000.0</td>\n",
       "      <td>6750.0</td>\n",
       "      <td>...</td>\n",
       "      <td>0</td>\n",
       "      <td>0</td>\n",
       "      <td>0</td>\n",
       "      <td>0</td>\n",
       "      <td>0.0</td>\n",
       "      <td>0.0</td>\n",
       "      <td>0.0</td>\n",
       "      <td>0.0</td>\n",
       "      <td>0.0</td>\n",
       "      <td>0.0</td>\n",
       "    </tr>\n",
       "    <tr>\n",
       "      <th>3</th>\n",
       "      <td>100006</td>\n",
       "      <td>0</td>\n",
       "      <td>Cash loans</td>\n",
       "      <td>F</td>\n",
       "      <td>N</td>\n",
       "      <td>Y</td>\n",
       "      <td>0</td>\n",
       "      <td>135000.0</td>\n",
       "      <td>312682.5</td>\n",
       "      <td>29686.5</td>\n",
       "      <td>...</td>\n",
       "      <td>0</td>\n",
       "      <td>0</td>\n",
       "      <td>0</td>\n",
       "      <td>0</td>\n",
       "      <td>NaN</td>\n",
       "      <td>NaN</td>\n",
       "      <td>NaN</td>\n",
       "      <td>NaN</td>\n",
       "      <td>NaN</td>\n",
       "      <td>NaN</td>\n",
       "    </tr>\n",
       "    <tr>\n",
       "      <th>4</th>\n",
       "      <td>100007</td>\n",
       "      <td>0</td>\n",
       "      <td>Cash loans</td>\n",
       "      <td>M</td>\n",
       "      <td>N</td>\n",
       "      <td>Y</td>\n",
       "      <td>0</td>\n",
       "      <td>121500.0</td>\n",
       "      <td>513000.0</td>\n",
       "      <td>21865.5</td>\n",
       "      <td>...</td>\n",
       "      <td>0</td>\n",
       "      <td>0</td>\n",
       "      <td>0</td>\n",
       "      <td>0</td>\n",
       "      <td>0.0</td>\n",
       "      <td>0.0</td>\n",
       "      <td>0.0</td>\n",
       "      <td>0.0</td>\n",
       "      <td>0.0</td>\n",
       "      <td>0.0</td>\n",
       "    </tr>\n",
       "  </tbody>\n",
       "</table>\n",
       "<p>5 rows × 122 columns</p>\n",
       "</div>"
      ],
      "text/plain": [
       "   SK_ID_CURR  TARGET NAME_CONTRACT_TYPE CODE_GENDER FLAG_OWN_CAR  \\\n",
       "0      100002       1         Cash loans           M            N   \n",
       "1      100003       0         Cash loans           F            N   \n",
       "2      100004       0    Revolving loans           M            Y   \n",
       "3      100006       0         Cash loans           F            N   \n",
       "4      100007       0         Cash loans           M            N   \n",
       "\n",
       "  FLAG_OWN_REALTY  CNT_CHILDREN  AMT_INCOME_TOTAL  AMT_CREDIT  AMT_ANNUITY  \\\n",
       "0               Y             0          202500.0    406597.5      24700.5   \n",
       "1               N             0          270000.0   1293502.5      35698.5   \n",
       "2               Y             0           67500.0    135000.0       6750.0   \n",
       "3               Y             0          135000.0    312682.5      29686.5   \n",
       "4               Y             0          121500.0    513000.0      21865.5   \n",
       "\n",
       "   ...  FLAG_DOCUMENT_18 FLAG_DOCUMENT_19 FLAG_DOCUMENT_20 FLAG_DOCUMENT_21  \\\n",
       "0  ...                 0                0                0                0   \n",
       "1  ...                 0                0                0                0   \n",
       "2  ...                 0                0                0                0   \n",
       "3  ...                 0                0                0                0   \n",
       "4  ...                 0                0                0                0   \n",
       "\n",
       "  AMT_REQ_CREDIT_BUREAU_HOUR AMT_REQ_CREDIT_BUREAU_DAY  \\\n",
       "0                        0.0                       0.0   \n",
       "1                        0.0                       0.0   \n",
       "2                        0.0                       0.0   \n",
       "3                        NaN                       NaN   \n",
       "4                        0.0                       0.0   \n",
       "\n",
       "   AMT_REQ_CREDIT_BUREAU_WEEK  AMT_REQ_CREDIT_BUREAU_MON  \\\n",
       "0                         0.0                        0.0   \n",
       "1                         0.0                        0.0   \n",
       "2                         0.0                        0.0   \n",
       "3                         NaN                        NaN   \n",
       "4                         0.0                        0.0   \n",
       "\n",
       "   AMT_REQ_CREDIT_BUREAU_QRT  AMT_REQ_CREDIT_BUREAU_YEAR  \n",
       "0                        0.0                         1.0  \n",
       "1                        0.0                         0.0  \n",
       "2                        0.0                         0.0  \n",
       "3                        NaN                         NaN  \n",
       "4                        0.0                         0.0  \n",
       "\n",
       "[5 rows x 122 columns]"
      ]
     },
     "execution_count": 4,
     "metadata": {},
     "output_type": "execute_result"
    }
   ],
   "source": [
    "app_train.head()"
   ]
  },
  {
   "cell_type": "code",
   "execution_count": 5,
   "metadata": {},
   "outputs": [
    {
     "data": {
      "text/plain": [
       "Index(['SK_ID_CURR', 'TARGET', 'NAME_CONTRACT_TYPE', 'CODE_GENDER',\n",
       "       'FLAG_OWN_CAR', 'FLAG_OWN_REALTY', 'CNT_CHILDREN', 'AMT_INCOME_TOTAL',\n",
       "       'AMT_CREDIT', 'AMT_ANNUITY',\n",
       "       ...\n",
       "       'FLAG_DOCUMENT_18', 'FLAG_DOCUMENT_19', 'FLAG_DOCUMENT_20',\n",
       "       'FLAG_DOCUMENT_21', 'AMT_REQ_CREDIT_BUREAU_HOUR',\n",
       "       'AMT_REQ_CREDIT_BUREAU_DAY', 'AMT_REQ_CREDIT_BUREAU_WEEK',\n",
       "       'AMT_REQ_CREDIT_BUREAU_MON', 'AMT_REQ_CREDIT_BUREAU_QRT',\n",
       "       'AMT_REQ_CREDIT_BUREAU_YEAR'],\n",
       "      dtype='object', length=122)"
      ]
     },
     "execution_count": 5,
     "metadata": {},
     "output_type": "execute_result"
    }
   ],
   "source": [
    "app_train.columns"
   ]
  },
  {
   "cell_type": "code",
   "execution_count": 6,
   "metadata": {},
   "outputs": [
    {
     "data": {
      "text/plain": [
       "[<matplotlib.lines.Line2D at 0x216970f6f60>]"
      ]
     },
     "execution_count": 6,
     "metadata": {},
     "output_type": "execute_result"
    },
    {
     "data": {
      "image/png": "[encoded data removed]",
      "text/plain": [
       "<Figure size 432x288 with 1 Axes>"
      ]
     },
     "metadata": {
      "needs_background": "light"
     },
     "output_type": "display_data"
    }
   ],
   "source": [
    "plt.plot(app_train['AMT_INCOME_TOTAL'])"
   ]
  },
  {
   "cell_type": "code",
   "execution_count": 7,
   "metadata": {},
   "outputs": [
    {
     "data": {
      "text/plain": [
       "(array([3.07508e+05, 2.00000e+00, 0.00000e+00, 0.00000e+00, 0.00000e+00,\n",
       "        0.00000e+00, 0.00000e+00, 0.00000e+00, 0.00000e+00, 1.00000e+00]),\n",
       " array([2.56500000e+04, 1.17230850e+07, 2.34205200e+07, 3.51179550e+07,\n",
       "        4.68153900e+07, 5.85128250e+07, 7.02102600e+07, 8.19076950e+07,\n",
       "        9.36051300e+07, 1.05302565e+08, 1.17000000e+08]),\n",
       " <a list of 10 Patch objects>)"
      ]
     },
     "execution_count": 7,
     "metadata": {},
     "output_type": "execute_result"
    },
    {
     "data": {
      "image/png": "[encoded data removed]",
      "text/plain": [
       "<Figure size 432x288 with 1 Axes>"
      ]
     },
     "metadata": {
      "needs_background": "light"
     },
     "output_type": "display_data"
    }
   ],
   "source": [
    "plt.hist(app_train['AMT_INCOME_TOTAL'])"
   ]
  },
  {
   "cell_type": "code",
   "execution_count": 8,
   "metadata": {},
   "outputs": [
    {
     "data": {
      "text/plain": [
       "[<matplotlib.lines.Line2D at 0x216979544e0>]"
      ]
     },
     "execution_count": 8,
     "metadata": {},
     "output_type": "execute_result"
    },
    {
     "data": {
      "image/png": "[encoded data removed]",
      "text/plain": [
       "<Figure size 432x288 with 1 Axes>"
      ]
     },
     "metadata": {
      "needs_background": "light"
     },
     "output_type": "display_data"
    }
   ],
   "source": [
    "plt.plot(app_train['AMT_INCOME_TOTAL'][app_train['AMT_INCOME_TOTAL']<10**7])"
   ]
  },
  {
   "cell_type": "code",
   "execution_count": 9,
   "metadata": {},
   "outputs": [
    {
     "data": {
      "text/plain": [
       "(array([5.0000e+00, 6.9000e+01, 1.0000e+00, 2.5000e+01, 3.7000e+01,\n",
       "        4.0000e+00, 1.3000e+01, 1.8700e+02, 1.1000e+01, 2.4000e+01,\n",
       "        5.3000e+01, 7.0000e+00, 1.7000e+01, 3.5100e+02, 1.1000e+01,\n",
       "        3.4000e+01, 7.5000e+01, 1.9000e+01, 2.0000e+01, 1.3000e+01,\n",
       "        3.7400e+02, 4.1000e+01, 1.0000e+01, 6.5000e+01, 3.2000e+01,\n",
       "        9.0000e+00, 2.0620e+03, 3.9000e+01, 1.3000e+01, 1.0900e+02,\n",
       "        3.6000e+01, 7.0000e+00, 7.4500e+02, 4.4000e+01, 1.7000e+01,\n",
       "        1.0700e+02, 3.4000e+01, 8.0000e+00, 2.3300e+03, 1.1000e+01,\n",
       "        3.9000e+01, 1.6700e+02, 2.2000e+01, 3.0000e+01, 1.1900e+03,\n",
       "        2.4000e+01, 2.3000e+01, 1.4900e+02, 2.4000e+01, 3.0000e+01,\n",
       "        1.1520e+03, 1.9000e+01, 2.8000e+01, 1.1400e+02, 1.9000e+01,\n",
       "        1.9000e+01, 1.1153e+04, 2.2000e+01, 3.3000e+01, 1.1000e+02,\n",
       "        4.2000e+01, 2.2000e+01, 2.1920e+03, 2.6000e+01, 3.8000e+01,\n",
       "        1.2100e+02, 4.2000e+01, 2.4000e+01, 3.1540e+03, 3.0000e+01,\n",
       "        5.8000e+01, 1.4800e+02, 2.9000e+01, 2.7000e+01, 6.0050e+03,\n",
       "        3.4000e+01, 2.8000e+01, 1.5700e+02, 4.7000e+01, 1.1000e+01,\n",
       "        1.5310e+03, 2.2000e+01, 1.8000e+01, 1.2800e+02, 3.2000e+01,\n",
       "        2.7000e+01, 2.2496e+04, 2.0000e+01, 2.0000e+01, 6.5000e+01,\n",
       "        2.9000e+01, 2.3000e+01, 1.7590e+03, 1.6000e+01, 2.4000e+01,\n",
       "        9.4000e+01, 2.5000e+01, 3.1000e+01, 3.6410e+03, 2.6000e+01]),\n",
       " array([25650. , 26392.5, 27135. , 27877.5, 28620. , 29362.5, 30105. ,\n",
       "        30847.5, 31590. , 32332.5, 33075. , 33817.5, 34560. , 35302.5,\n",
       "        36045. , 36787.5, 37530. , 38272.5, 39015. , 39757.5, 40500. ,\n",
       "        41242.5, 41985. , 42727.5, 43470. , 44212.5, 44955. , 45697.5,\n",
       "        46440. , 47182.5, 47925. , 48667.5, 49410. , 50152.5, 50895. ,\n",
       "        51637.5, 52380. , 53122.5, 53865. , 54607.5, 55350. , 56092.5,\n",
       "        56835. , 57577.5, 58320. , 59062.5, 59805. , 60547.5, 61290. ,\n",
       "        62032.5, 62775. , 63517.5, 64260. , 65002.5, 65745. , 66487.5,\n",
       "        67230. , 67972.5, 68715. , 69457.5, 70200. , 70942.5, 71685. ,\n",
       "        72427.5, 73170. , 73912.5, 74655. , 75397.5, 76140. , 76882.5,\n",
       "        77625. , 78367.5, 79110. , 79852.5, 80595. , 81337.5, 82080. ,\n",
       "        82822.5, 83565. , 84307.5, 85050. , 85792.5, 86535. , 87277.5,\n",
       "        88020. , 88762.5, 89505. , 90247.5, 90990. , 91732.5, 92475. ,\n",
       "        93217.5, 93960. , 94702.5, 95445. , 96187.5, 96930. , 97672.5,\n",
       "        98415. , 99157.5, 99900. ]),\n",
       " <a list of 100 Patch objects>)"
      ]
     },
     "execution_count": 9,
     "metadata": {},
     "output_type": "execute_result"
    },
    {
     "data": {
      "image/png": "[encoded data removed]",
      "text/plain": [
       "<Figure size 432x288 with 1 Axes>"
      ]
     },
     "metadata": {
      "needs_background": "light"
     },
     "output_type": "display_data"
    }
   ],
   "source": [
    "plt.hist(app_train['AMT_INCOME_TOTAL'][app_train['AMT_INCOME_TOTAL']<10**5],100)"
   ]
  },
  {
   "cell_type": "code",
   "execution_count": 10,
   "metadata": {},
   "outputs": [
    {
     "data": {
      "text/plain": [
       "51907216960.935005"
      ]
     },
     "execution_count": 10,
     "metadata": {},
     "output_type": "execute_result"
    }
   ],
   "source": [
    "app_train['AMT_INCOME_TOTAL'].sum()"
   ]
  },
  {
   "cell_type": "code",
   "execution_count": 11,
   "metadata": {},
   "outputs": [
    {
     "data": {
      "text/plain": [
       "168797.9192969845"
      ]
     },
     "execution_count": 11,
     "metadata": {},
     "output_type": "execute_result"
    }
   ],
   "source": [
    "app_train['AMT_INCOME_TOTAL'].mean()"
   ]
  },
  {
   "cell_type": "code",
   "execution_count": 12,
   "metadata": {},
   "outputs": [
    {
     "data": {
      "text/plain": [
       "0         2.025000e+05\n",
       "1         4.725000e+05\n",
       "2         5.400000e+05\n",
       "3         6.750000e+05\n",
       "4         7.965000e+05\n",
       "5         8.955000e+05\n",
       "6         1.066500e+06\n",
       "7         1.426500e+06\n",
       "8         1.539000e+06\n",
       "9         1.674000e+06\n",
       "10        1.786500e+06\n",
       "11        1.824919e+06\n",
       "12        1.892419e+06\n",
       "13        2.117419e+06\n",
       "14        2.306419e+06\n",
       "15        2.463919e+06\n",
       "16        2.571919e+06\n",
       "17        2.652919e+06\n",
       "18        2.765419e+06\n",
       "19        2.855419e+06\n",
       "20        2.990419e+06\n",
       "21        3.192919e+06\n",
       "22        3.642919e+06\n",
       "23        3.726169e+06\n",
       "24        3.861169e+06\n",
       "25        3.951169e+06\n",
       "26        4.063669e+06\n",
       "27        4.176169e+06\n",
       "28        4.446169e+06\n",
       "29        4.536169e+06\n",
       "              ...     \n",
       "307481    5.190161e+10\n",
       "307482    5.190183e+10\n",
       "307483    5.190193e+10\n",
       "307484    5.190247e+10\n",
       "307485    5.190274e+10\n",
       "307486    5.190303e+10\n",
       "307487    5.190315e+10\n",
       "307488    5.190331e+10\n",
       "307489    5.190353e+10\n",
       "307490    5.190361e+10\n",
       "307491    5.190370e+10\n",
       "307492    5.190429e+10\n",
       "307493    5.190442e+10\n",
       "307494    5.190469e+10\n",
       "307495    5.190487e+10\n",
       "307496    5.190523e+10\n",
       "307497    5.190541e+10\n",
       "307498    5.190561e+10\n",
       "307499    5.190569e+10\n",
       "307500    5.190595e+10\n",
       "307501    5.190603e+10\n",
       "307502    5.190613e+10\n",
       "307503    5.190624e+10\n",
       "307504    5.190639e+10\n",
       "307505    5.190651e+10\n",
       "307506    5.190666e+10\n",
       "307507    5.190674e+10\n",
       "307508    5.190689e+10\n",
       "307509    5.190706e+10\n",
       "307510    5.190722e+10\n",
       "Name: AMT_INCOME_TOTAL, Length: 307511, dtype: float64"
      ]
     },
     "execution_count": 12,
     "metadata": {},
     "output_type": "execute_result"
    }
   ],
   "source": [
    "app_train['AMT_INCOME_TOTAL'].cumsum()"
   ]
  },
  {
   "cell_type": "code",
   "execution_count": 13,
   "metadata": {},
   "outputs": [
    {
     "data": {
      "text/plain": [
       "count    3.075110e+05\n",
       "mean     1.687979e+05\n",
       "std      2.371231e+05\n",
       "min      2.565000e+04\n",
       "25%      1.125000e+05\n",
       "50%      1.471500e+05\n",
       "75%      2.025000e+05\n",
       "max      1.170000e+08\n",
       "Name: AMT_INCOME_TOTAL, dtype: float64"
      ]
     },
     "execution_count": 13,
     "metadata": {},
     "output_type": "execute_result"
    }
   ],
   "source": [
    "app_train['AMT_INCOME_TOTAL'].describe()"
   ]
  },
  {
   "cell_type": "code",
   "execution_count": 14,
   "metadata": {},
   "outputs": [
    {
     "data": {
      "text/plain": [
       "147150.0"
      ]
     },
     "execution_count": 14,
     "metadata": {},
     "output_type": "execute_result"
    }
   ],
   "source": [
    "app_train['AMT_INCOME_TOTAL'].median()"
   ]
  },
  {
   "cell_type": "code",
   "execution_count": 15,
   "metadata": {},
   "outputs": [
    {
     "data": {
      "text/plain": [
       "56227386501.174484"
      ]
     },
     "execution_count": 15,
     "metadata": {},
     "output_type": "execute_result"
    }
   ],
   "source": [
    "app_train['AMT_INCOME_TOTAL'].var()"
   ]
  },
  {
   "cell_type": "code",
   "execution_count": 16,
   "metadata": {},
   "outputs": [
    {
     "data": {
      "text/plain": [
       "391.5596541041876"
      ]
     },
     "execution_count": 16,
     "metadata": {},
     "output_type": "execute_result"
    }
   ],
   "source": [
    "app_train['AMT_INCOME_TOTAL'].skew()"
   ]
  },
  {
   "cell_type": "code",
   "execution_count": 17,
   "metadata": {},
   "outputs": [
    {
     "data": {
      "text/plain": [
       "191786.55438080415"
      ]
     },
     "execution_count": 17,
     "metadata": {},
     "output_type": "execute_result"
    }
   ],
   "source": [
    "app_train['AMT_INCOME_TOTAL'].kurt()"
   ]
  },
  {
   "cell_type": "code",
   "execution_count": 18,
   "metadata": {},
   "outputs": [
    {
     "data": {
      "text/html": [
       "<div>\n",
       "<style scoped>\n",
       "    .dataframe tbody tr th:only-of-type {\n",
       "        vertical-align: middle;\n",
       "    }\n",
       "\n",
       "    .dataframe tbody tr th {\n",
       "        vertical-align: top;\n",
       "    }\n",
       "\n",
       "    .dataframe thead th {\n",
       "        text-align: right;\n",
       "    }\n",
       "</style>\n",
       "<table border=\"1\" class=\"dataframe\">\n",
       "  <thead>\n",
       "    <tr style=\"text-align: right;\">\n",
       "      <th></th>\n",
       "      <th>AMT_INCOME_TOTAL</th>\n",
       "      <th>AMT_CREDIT</th>\n",
       "    </tr>\n",
       "  </thead>\n",
       "  <tbody>\n",
       "    <tr>\n",
       "      <th>AMT_INCOME_TOTAL</th>\n",
       "      <td>1.00000</td>\n",
       "      <td>0.15687</td>\n",
       "    </tr>\n",
       "    <tr>\n",
       "      <th>AMT_CREDIT</th>\n",
       "      <td>0.15687</td>\n",
       "      <td>1.00000</td>\n",
       "    </tr>\n",
       "  </tbody>\n",
       "</table>\n",
       "</div>"
      ],
      "text/plain": [
       "                  AMT_INCOME_TOTAL  AMT_CREDIT\n",
       "AMT_INCOME_TOTAL           1.00000     0.15687\n",
       "AMT_CREDIT                 0.15687     1.00000"
      ]
     },
     "execution_count": 18,
     "metadata": {},
     "output_type": "execute_result"
    }
   ],
   "source": [
    "app_train.loc[:,['AMT_INCOME_TOTAL','AMT_CREDIT']].corr()"
   ]
  },
  {
   "cell_type": "code",
   "execution_count": 19,
   "metadata": {},
   "outputs": [
    {
     "data": {
      "text/html": [
       "<div>\n",
       "<style scoped>\n",
       "    .dataframe tbody tr th:only-of-type {\n",
       "        vertical-align: middle;\n",
       "    }\n",
       "\n",
       "    .dataframe tbody tr th {\n",
       "        vertical-align: top;\n",
       "    }\n",
       "\n",
       "    .dataframe thead th {\n",
       "        text-align: right;\n",
       "    }\n",
       "</style>\n",
       "<table border=\"1\" class=\"dataframe\">\n",
       "  <thead>\n",
       "    <tr style=\"text-align: right;\">\n",
       "      <th></th>\n",
       "      <th>AMT_INCOME_TOTAL</th>\n",
       "      <th>AMT_CREDIT</th>\n",
       "    </tr>\n",
       "  </thead>\n",
       "  <tbody>\n",
       "    <tr>\n",
       "      <th>AMT_INCOME_TOTAL</th>\n",
       "      <td>5.622739e+10</td>\n",
       "      <td>1.497168e+10</td>\n",
       "    </tr>\n",
       "    <tr>\n",
       "      <th>AMT_CREDIT</th>\n",
       "      <td>1.497168e+10</td>\n",
       "      <td>1.619988e+11</td>\n",
       "    </tr>\n",
       "  </tbody>\n",
       "</table>\n",
       "</div>"
      ],
      "text/plain": [
       "                  AMT_INCOME_TOTAL    AMT_CREDIT\n",
       "AMT_INCOME_TOTAL      5.622739e+10  1.497168e+10\n",
       "AMT_CREDIT            1.497168e+10  1.619988e+11"
      ]
     },
     "execution_count": 19,
     "metadata": {},
     "output_type": "execute_result"
    }
   ],
   "source": [
    "app_train.loc[:,['AMT_INCOME_TOTAL','AMT_CREDIT']].cov()"
   ]
  },
  {
   "cell_type": "code",
   "execution_count": 20,
   "metadata": {},
   "outputs": [
    {
     "data": {
      "text/plain": [
       "0         202500.0\n",
       "2          67500.0\n",
       "4         121500.0\n",
       "5          99000.0\n",
       "7         360000.0\n",
       "9         135000.0\n",
       "13        225000.0\n",
       "15        157500.0\n",
       "16        108000.0\n",
       "20        135000.0\n",
       "24        135000.0\n",
       "27        112500.0\n",
       "28        270000.0\n",
       "29         90000.0\n",
       "33        360000.0\n",
       "37        121500.0\n",
       "39        180000.0\n",
       "40        202500.0\n",
       "44        202500.0\n",
       "49        360000.0\n",
       "51        540000.0\n",
       "52         76500.0\n",
       "54         81000.0\n",
       "57         81000.0\n",
       "58        360000.0\n",
       "59        540000.0\n",
       "61        180000.0\n",
       "62        324000.0\n",
       "64        180000.0\n",
       "65        180000.0\n",
       "            ...   \n",
       "307400     67500.0\n",
       "307405     49500.0\n",
       "307415    180000.0\n",
       "307421    157500.0\n",
       "307423     90000.0\n",
       "307425    234000.0\n",
       "307432    135000.0\n",
       "307433     50400.0\n",
       "307435    189000.0\n",
       "307438    171000.0\n",
       "307439    247500.0\n",
       "307442    135000.0\n",
       "307446    270000.0\n",
       "307448    207000.0\n",
       "307449    315000.0\n",
       "307451    450000.0\n",
       "307454    157500.0\n",
       "307455    157500.0\n",
       "307459    225000.0\n",
       "307460    382500.0\n",
       "307474    135000.0\n",
       "307481    225000.0\n",
       "307487    117000.0\n",
       "307490     81000.0\n",
       "307491     90000.0\n",
       "307492    585000.0\n",
       "307494    270000.0\n",
       "307495    180000.0\n",
       "307498    198000.0\n",
       "307506    157500.0\n",
       "Name: AMT_INCOME_TOTAL, Length: 105057, dtype: float64"
      ]
     },
     "execution_count": 20,
     "metadata": {},
     "output_type": "execute_result"
    }
   ],
   "source": [
    "app_train['AMT_INCOME_TOTAL'][app_train['CODE_GENDER']=='M'][app_train['AMT_INCOME_TOTAL']<10**7]"
   ]
  },
  {
   "cell_type": "code",
   "execution_count": 21,
   "metadata": {},
   "outputs": [
    {
     "data": {
      "text/plain": [
       "(array([2.02336e+05, 9.30000e+01, 1.40000e+01, 3.00000e+00, 0.00000e+00,\n",
       "        0.00000e+00, 0.00000e+00, 0.00000e+00, 0.00000e+00, 1.00000e+00]),\n",
       " array([  25650.,  923085., 1820520., 2717955., 3615390., 4512825.,\n",
       "        5410260., 6307695., 7205130., 8102565., 9000000.]),\n",
       " <a list of 10 Patch objects>)"
      ]
     },
     "execution_count": 21,
     "metadata": {},
     "output_type": "execute_result"
    },
    {
     "data": {
      "image/png": "[encoded data removed]",
      "text/plain": [
       "<Figure size 432x288 with 2 Axes>"
      ]
     },
     "metadata": {
      "needs_background": "light"
     },
     "output_type": "display_data"
    }
   ],
   "source": [
    "fig1=plt.subplot(2,2,1)\n",
    "fig1.hist(app_train['AMT_INCOME_TOTAL'][app_train['CODE_GENDER']=='M'][app_train['AMT_INCOME_TOTAL']<10**7])\n",
    "fig1.set_ylim([0,200000])\n",
    "fig2=plt.subplot(2,2,2)\n",
    "fig2.set_ylim([0,200000])\n",
    "fig2.hist(app_train['AMT_INCOME_TOTAL'][app_train['CODE_GENDER']=='F'][app_train['AMT_INCOME_TOTAL']<10**7])\n"
   ]
  },
  {
   "cell_type": "code",
   "execution_count": 22,
   "metadata": {},
   "outputs": [
    {
     "name": "stdout",
     "output_type": "stream",
     "text": [
      "M mean: 193396.4821531711\n",
      "F mean: 156032.30924684365\n",
      "M std: 134597.16953062988\n",
      "F std: 274825.5925700193\n"
     ]
    }
   ],
   "source": [
    "print('M mean:',app_train['AMT_INCOME_TOTAL'][app_train['CODE_GENDER']=='M'].mean())\n",
    "print('F mean:',app_train['AMT_INCOME_TOTAL'][app_train['CODE_GENDER']=='F'].mean())\n",
    "print('M std:',app_train['AMT_INCOME_TOTAL'][app_train['CODE_GENDER']=='M'].std())\n",
    "print('F std:',app_train['AMT_INCOME_TOTAL'][app_train['CODE_GENDER']=='F'].std())"
   ]
  },
  {
   "cell_type": "code",
   "execution_count": 23,
   "metadata": {},
   "outputs": [
    {
     "data": {
      "text/plain": [
       "Text(0.5, 0, 'AMT_INCOME_TOTAL')"
      ]
     },
     "execution_count": 23,
     "metadata": {},
     "output_type": "execute_result"
    },
    {
     "data": {
      "image/png": "[encoded data removed]",
      "text/plain": [
       "<Figure size 432x288 with 1 Axes>"
      ]
     },
     "metadata": {
      "needs_background": "light"
     },
     "output_type": "display_data"
    }
   ],
   "source": [
    "app_train['AMT_INCOME_TOTAL'].hist()\n",
    "plt.xlabel('AMT_INCOME_TOTAL')"
   ]
  },
  {
   "cell_type": "markdown",
   "metadata": {},
   "source": [
    "注意到該欄位的最大值和 75% 百分位數的值有異常大的差距，所以直接畫直方圖會看不出所以然來，可以先過濾掉再重新畫圖來看"
   ]
  },
  {
   "cell_type": "code",
   "execution_count": 24,
   "metadata": {},
   "outputs": [
    {
     "data": {
      "text/plain": [
       "Text(0.5, 0, 'AMT_INCOME_TOTAL')"
      ]
     },
     "execution_count": 24,
     "metadata": {},
     "output_type": "execute_result"
    },
    {
     "data": {
      "image/png": "[encoded data removed]",
      "text/plain": [
       "<Figure size 432x288 with 1 Axes>"
      ]
     },
     "metadata": {
      "needs_background": "light"
     },
     "output_type": "display_data"
    }
   ],
   "source": [
    "app_train.loc[app_train['AMT_INCOME_TOTAL']<app_train['AMT_INCOME_TOTAL'].quantile(0.99)]['AMT_INCOME_TOTAL'].hist()\n",
    "plt.xlabel('AMT_INCOME_TOTAL')"
   ]
  }
 ],
 "metadata": {
  "kernelspec": {
   "display_name": "Python 3",
   "language": "python",
   "name": "python3"
  },
  "language_info": {
   "codemirror_mode": {
    "name": "ipython",
    "version": 3
   },
   "file_extension": ".py",
   "mimetype": "text/x-python",
   "name": "python",
   "nbconvert_exporter": "python",
   "pygments_lexer": "ipython3",
   "version": "3.7.3"
  }
 },
 "nbformat": 4,
 "nbformat_minor": 2
}
